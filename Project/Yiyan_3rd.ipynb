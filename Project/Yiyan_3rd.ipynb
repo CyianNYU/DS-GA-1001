{
 "cells": [
  {
   "cell_type": "code",
   "execution_count": 2,
   "metadata": {
    "collapsed": true
   },
   "outputs": [],
   "source": [
    "import os\n",
    "import pandas as pd"
   ]
  },
  {
   "cell_type": "code",
   "execution_count": 3,
   "metadata": {
    "collapsed": true
   },
   "outputs": [],
   "source": [
    "cwd = os.getcwd()\n",
    "datadir ='/'.join(cwd.split('/')[0:-1]) + '/Project/'\n",
    "review = pd.read_csv(\"review.csv\", sep = ',')"
   ]
  },
  {
   "cell_type": "code",
   "execution_count": 4,
   "metadata": {},
   "outputs": [
    {
     "name": "stderr",
     "output_type": "stream",
     "text": [
      "/Users/cyian/anaconda3/lib/python3.6/site-packages/IPython/core/interactiveshell.py:2698: DtypeWarning: Columns (55) have mixed types. Specify dtype option on import or set low_memory=False.\n",
      "  interactivity=interactivity, compiler=compiler, result=result)\n"
     ]
    }
   ],
   "source": [
    "mua = pd.read_csv('MUA.csv')"
   ]
  },
  {
   "cell_type": "code",
   "execution_count": 24,
   "metadata": {
    "scrolled": true
   },
   "outputs": [
    {
     "data": {
      "text/plain": [
       "review_id                             object\n",
       "user_id                               object\n",
       "business_id                           object\n",
       "date_review                           object\n",
       "text                                  object\n",
       "stars_review                           int64\n",
       "funny_review                           int64\n",
       "useful_review                          int64\n",
       "cool_review                            int64\n",
       "name_business                         object\n",
       "postal_code                          float64\n",
       "categories                            object\n",
       "is_open                                int64\n",
       "state                                 object\n",
       "address                               object\n",
       "review_count_business                  int64\n",
       "city                                  object\n",
       "stars_business                       float64\n",
       "hours.Monday                          object\n",
       "hours.Tuesday                         object\n",
       "hours.Wednesday                       object\n",
       "hours.Thursday                        object\n",
       "hours.Friday                          object\n",
       "hours.Saturday                        object\n",
       "hours.Sunday                          object\n",
       "Mondayhours                          float64\n",
       "Tuesdayhours                         float64\n",
       "Wednesdayhours                       float64\n",
       "Thursdayhours                        float64\n",
       "Fridayhours                          float64\n",
       "                                      ...   \n",
       "attributes.Music.video                object\n",
       "attributes.Music.live                 object\n",
       "attributes.Music.background_music     object\n",
       "attributes.Music.dj                   object\n",
       "attributes.Music.jukebox              object\n",
       "yelping_since                         object\n",
       "review_count_user                      int64\n",
       "average_stars_user                   float64\n",
       "elite                                 object\n",
       "fans                                   int64\n",
       "friends                               object\n",
       "funny_user                             int64\n",
       "useful_user                            int64\n",
       "cool_user                              int64\n",
       "name_user                             object\n",
       "compliment_photos                      int64\n",
       "compliment_list                        int64\n",
       "compliment_funny                       int64\n",
       "compliment_plain                       int64\n",
       "compliment_note                        int64\n",
       "compliment_writer                      int64\n",
       "compliment_cute                        int64\n",
       "compliment_profile                     int64\n",
       "compliment_cool                        int64\n",
       "compliment_hot                         int64\n",
       "compliment_more                        int64\n",
       "since_first_review                     int64\n",
       "date_review_to_now                     int64\n",
       "elite_years                            int64\n",
       "friends_number                         int64\n",
       "Length: 109, dtype: object"
      ]
     },
     "execution_count": 24,
     "metadata": {},
     "output_type": "execute_result"
    }
   ],
   "source": [
    "mua.dtypes"
   ]
  },
  {
   "cell_type": "code",
   "execution_count": null,
   "metadata": {
    "collapsed": true
   },
   "outputs": [],
   "source": []
  }
 ],
 "metadata": {
  "kernelspec": {
   "display_name": "Python 3",
   "language": "python",
   "name": "python3"
  },
  "language_info": {
   "codemirror_mode": {
    "name": "ipython",
    "version": 3
   },
   "file_extension": ".py",
   "mimetype": "text/x-python",
   "name": "python",
   "nbconvert_exporter": "python",
   "pygments_lexer": "ipython3",
   "version": "3.6.2"
  }
 },
 "nbformat": 4,
 "nbformat_minor": 2
}
