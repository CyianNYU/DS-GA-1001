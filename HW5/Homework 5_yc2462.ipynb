{
 "cells": [
  {
   "cell_type": "markdown",
   "metadata": {},
   "source": [
    "# Introduction to Data Science\n",
    "## Homework 5"
   ]
  },
  {
   "cell_type": "markdown",
   "metadata": {},
   "source": [
    "Student Name: Yiyan Chen\n",
    "\n",
    "Student Netid: yc2462\n",
    "***"
   ]
  },
  {
   "cell_type": "markdown",
   "metadata": {},
   "source": [
    "### Part 1: Naive Bayes (5 Points)"
   ]
  },
  {
   "cell_type": "markdown",
   "metadata": {},
   "source": [
    "1\\. From your reading you know that the naive Bayes classifier works by calculating the conditional probabilities of each feature, $e_i$, occuring with each class $c$ and treating them independently. This results in the probability of a certain class occuring given a set of features, or a piece of evidence, $E$, as\n",
    "\n",
    "$$P(c \\mid E) = \\frac{p(e_1 \\mid c) \\cdot p(e_2 \\mid c) \\cdot \\cdot \\cdot p(e_k \\mid c) \\cdot p(c)}{p(E)}.$$\n",
    "\n",
    "The conditional probability of each piece of evidence occuring with a given class is given by\n",
    "\n",
    "$$P(e_i \\mid c) = \\frac{\\text{count}(e_i, c)}{\\text{count}(c)}.$$\n",
    "\n",
    "In the above equation $\\text{count}(e_i, c)$ is the number of documents in a given class that contain feature $e_i$ and $\\text{count}(c)$ is the number of documents that belong to class $c$. \n",
    "\n",
    "A common variation of the above is to use Laplace (sometimes called +1) smoothing. Recall the use of Laplace smoothing introduced toward the end of Chapter 3 in the section Probability Estimation. This is done in sklearn by setting `alpha=1` in the `BernoulliNB()` function (this is also the default behavior). The result of Laplace smoothing will slightly change the conditional probabilities,\n",
    "\n",
    "$$P(e_i \\mid c) = \\frac{\\text{count}(e_i, c) + 1}{\\text{count}(c) + 2}.$$\n",
    "\n",
    "In no more than **one paragraph**, describe why this is useful, and use the bias-variance tradeoff to justify its use. Try to think of a case when not using Laplace smoothing would result in \"bad\" models. Try to give an example. Be precise."
   ]
  },
  {
   "cell_type": "markdown",
   "metadata": {},
   "source": [
    "When using frequency alone, the probability of P(ei|c) may be overly optimistic. The smoothing parameter can adjustify the bias-variance tradeoff. Without the smoothing parameter, the model has high variance and no bias. Adding smoothness lower the variance which makes the prediction more precise. For example, in the reality, the spam emails is around 10%. When we randomly select the instances. It is totally different cases when we have two instances and twenty instances. If neither of the two instances contains ei feature, the p(ei|c) equals to 0, but the result may only due to the scarcity of instances. If 0 out of 20 contains no ei feature, the p(ei|c) equals zero is more convincing. After the Laplace smoothing, p in the first case is 0.25 while in the second case is 0.045 which is more close to the truth."
   ]
  },
  {
   "cell_type": "markdown",
   "metadata": {},
   "source": [
    "### Part 2: Text classification for sentiment analysis (20 Points)\n",
    "For this part of the assignment, we are going to use a data set of movie ratings from IMDB.com. The data consists of the text of a movie review and a target variable which tells us whether the reviewer had a positive feeling towards the movie (equivalent to rating the movie between 7 and 10) or a negative feeling (rating the movie between 1 and 4). Neutral reactions are not included in the data.\n",
    "\n",
    "The data are located in \"`data/imdb.csv`\". The first column is the review text; the second is the text label 'P' for positive or 'N' for negative."
   ]
  },
  {
   "cell_type": "markdown",
   "metadata": {},
   "source": [
    "1 (1 Point) \\. Load the data into a pandas `DataFrame()`."
   ]
  },
  {
   "cell_type": "code",
   "execution_count": 1,
   "metadata": {
    "collapsed": true
   },
   "outputs": [],
   "source": [
    "import pandas as pd\n",
    "import numpy as np\n",
    "import os\n",
    "\n",
    "cwd = os.getcwd()\n",
    "datadir = '/'.join(cwd.split('/')) + '/'\n",
    "data = pd.read_csv(datadir + 'imdb.csv')"
   ]
  },
  {
   "cell_type": "code",
   "execution_count": 2,
   "metadata": {},
   "outputs": [
    {
     "data": {
      "text/html": [
       "<div>\n",
       "<style>\n",
       "    .dataframe thead tr:only-child th {\n",
       "        text-align: right;\n",
       "    }\n",
       "\n",
       "    .dataframe thead th {\n",
       "        text-align: left;\n",
       "    }\n",
       "\n",
       "    .dataframe tbody tr th {\n",
       "        vertical-align: top;\n",
       "    }\n",
       "</style>\n",
       "<table border=\"1\" class=\"dataframe\">\n",
       "  <thead>\n",
       "    <tr style=\"text-align: right;\">\n",
       "      <th></th>\n",
       "      <th>Text</th>\n",
       "      <th>Class</th>\n",
       "    </tr>\n",
       "  </thead>\n",
       "  <tbody>\n",
       "    <tr>\n",
       "      <th>0</th>\n",
       "      <td>'One of the first of the best musicals Anchors...</td>\n",
       "      <td>P</td>\n",
       "    </tr>\n",
       "    <tr>\n",
       "      <th>1</th>\n",
       "      <td>'Visually disjointed and full of itself the di...</td>\n",
       "      <td>N</td>\n",
       "    </tr>\n",
       "    <tr>\n",
       "      <th>2</th>\n",
       "      <td>'These type of movies about young teenagers st...</td>\n",
       "      <td>P</td>\n",
       "    </tr>\n",
       "    <tr>\n",
       "      <th>3</th>\n",
       "      <td>'I would rather of had my eyes gouged out with...</td>\n",
       "      <td>N</td>\n",
       "    </tr>\n",
       "    <tr>\n",
       "      <th>4</th>\n",
       "      <td>'The title says it all. Tail Gunner Joe was a ...</td>\n",
       "      <td>N</td>\n",
       "    </tr>\n",
       "  </tbody>\n",
       "</table>\n",
       "</div>"
      ],
      "text/plain": [
       "                                                Text Class\n",
       "0  'One of the first of the best musicals Anchors...     P\n",
       "1  'Visually disjointed and full of itself the di...     N\n",
       "2  'These type of movies about young teenagers st...     P\n",
       "3  'I would rather of had my eyes gouged out with...     N\n",
       "4  'The title says it all. Tail Gunner Joe was a ...     N"
      ]
     },
     "execution_count": 2,
     "metadata": {},
     "output_type": "execute_result"
    }
   ],
   "source": [
    "data.head(5)"
   ]
  },
  {
   "cell_type": "markdown",
   "metadata": {},
   "source": [
    "2 (1 Point)\\. Code the target variable to be numeric: use the value `1` to represent 'P' and `0` to represent 'N'."
   ]
  },
  {
   "cell_type": "code",
   "execution_count": 3,
   "metadata": {
    "collapsed": true
   },
   "outputs": [],
   "source": [
    "# Code here\n",
    "data['Class'].replace('P', 1, inplace = True)\n",
    "data['Class'].replace('N', 0, inplace = True)\n",
    "#data['Class'].isnull().any()\n",
    "data.dropna(inplace = True)"
   ]
  },
  {
   "cell_type": "markdown",
   "metadata": {},
   "source": [
    "3 (2 Points)\\. Put all of the text into a data frame called `X` and the target variable in a data frame called `Y`. Make a train/test split where you give 75% of the data to training. Feel free to use any function from sklearn."
   ]
  },
  {
   "cell_type": "code",
   "execution_count": 4,
   "metadata": {},
   "outputs": [
    {
     "name": "stderr",
     "output_type": "stream",
     "text": [
      "/Users/cyian/anaconda3/lib/python3.6/site-packages/sklearn/cross_validation.py:41: DeprecationWarning: This module was deprecated in version 0.18 in favor of the model_selection module into which all the refactored classes and functions are moved. Also note that the interface of the new CV iterators are different from that of this module. This module will be removed in 0.20.\n",
      "  \"This module will be removed in 0.20.\", DeprecationWarning)\n"
     ]
    }
   ],
   "source": [
    "from sklearn.cross_validation import train_test_split\n",
    "\n",
    "X = data['Text']\n",
    "Y = data['Class']\n",
    "#change dictionary to Series\n",
    "\n",
    "X_train, X_test, Y_train, Y_test = train_test_split(X, Y, test_size = 0.25)"
   ]
  },
  {
   "cell_type": "markdown",
   "metadata": {},
   "source": [
    "4 (5 Points)\\. Create a binary `CountVectorizer()` and a binary `TfidfVectorizer()`. Use the original single words as well as bigrams (in the same model). Also, use an \"english\" stop word list. Fit these to the training data to extract a vocabulary and then transform both the train and test data. Hint - look at the API documentation for both vectorizers to see what we mean by \"binary.\""
   ]
  },
  {
   "cell_type": "code",
   "execution_count": 6,
   "metadata": {
    "collapsed": true
   },
   "outputs": [],
   "source": [
    "from sklearn.feature_extraction.text import CountVectorizer\n",
    "from sklearn.feature_extraction.text import TfidfVectorizer\n",
    "#from nltk.corpus import stopwords\n",
    "#stops = set(stopwords.words('english'))\n",
    "count_single = CountVectorizer(binary = True, stop_words='english')\n",
    "count_bigram = CountVectorizer(binary = True, ngram_range = (1,2), stop_words='english')\n",
    "count_single.fit(X_train)\n",
    "count_bigram.fit(X_train)\n",
    "X_train_count_single = count_single.transform(X_train)\n",
    "X_test_count_single = count_single.transform(X_test)\n",
    "X_train_count_bigram = count_bigram.transform(X_train)\n",
    "X_test_count_bigram = count_bigram.transform(X_test)"
   ]
  },
  {
   "cell_type": "code",
   "execution_count": 7,
   "metadata": {
    "collapsed": true
   },
   "outputs": [],
   "source": [
    "tfid_single = CountVectorizer(binary = True, stop_words='english')\n",
    "tfid_bigram = TfidfVectorizer(binary = True, ngram_range = (1,2), stop_words='english')\n",
    "tfid_single.fit(X_train)\n",
    "tfid_bigram.fit(X_train)\n",
    "X_train_tfid_single = tfid_single.transform(X_train)\n",
    "X_test_tfid_single = tfid_single.transform(X_test)\n",
    "X_train_tfid_bigram = tfid_bigram.transform(X_train)\n",
    "X_test_tfid_bigram = tfid_bigram.transform(X_test)"
   ]
  },
  {
   "cell_type": "markdown",
   "metadata": {},
   "source": [
    "5 (6 Points)\\. Create `LogisticRegression()` and `BernoulliNB()` models. For all settings, keep the default values. In a single plot, show the AUC curve for both classifiers and both vectorizers defined above. In the legend, include the area under the ROC curve (AUC). Do not forget to label your axes. Your final plot will be a single window with 4 curves.\n",
    "\n",
    "Which model do you think does a better job? Why? Explain in no more than a paragraph.\n",
    "\n",
    "Extra credit (2 points): Do any of the options perform identically? If so, can you explain why?"
   ]
  },
  {
   "cell_type": "code",
   "execution_count": 8,
   "metadata": {
    "collapsed": true
   },
   "outputs": [],
   "source": [
    "# Run this so your plots show properly\n",
    "import matplotlib.pyplot as plt\n",
    "%matplotlib inline\n",
    "plt.rcParams['figure.figsize'] = 12, 12"
   ]
  },
  {
   "cell_type": "code",
   "execution_count": 9,
   "metadata": {},
   "outputs": [
    {
     "data": {
      "text/plain": [
       "0.92826687931951091"
      ]
     },
     "execution_count": 9,
     "metadata": {},
     "output_type": "execute_result"
    },
    {
     "data": {
      "image/png": "[encoded data removed]",
      "text/plain": [
       "<matplotlib.figure.Figure at 0x102c91eb8>"
      ]
     },
     "metadata": {},
     "output_type": "display_data"
    }
   ],
   "source": [
    "from sklearn.linear_model import LogisticRegression\n",
    "from sklearn.naive_bayes import BernoulliNB\n",
    "from sklearn import metrics\n",
    "lg = LogisticRegression()\n",
    "nb = BernoulliNB()\n",
    "def plotROC(preds, truth, label_string):\n",
    "    fpr, tpr, thres = metrics.roc_curve(truth, preds)\n",
    "    roc_auc = metrics.auc(fpr, tpr)\n",
    "    if roc_auc < 0.5:\n",
    "        fpr, tpr, thres = metrics.roc_curve(truth, -1 * preds)\n",
    "        roc_auc = metrics.auc(fpr, tpr)\n",
    "    c = (np.random.rand(), np.random.rand(), np.random.rand())\n",
    "    plt.plot(fpr, tpr, color = c,label = label_string + ' (AUC = %0.3f)' % roc_auc)\n",
    "    plt.plot([0, 1], [0, 1], 'k--')\n",
    "    plt.xlim([0.0, 1.0])\n",
    "    plt.ylim([0.0, 1.0])\n",
    "    plt.xlabel('FPR')\n",
    "    plt.ylabel('TPR')\n",
    "    plt.title('ROC')\n",
    "    plt.legend(loc=\"lower right\")\n",
    "    \n",
    "    return roc_auc\n",
    "#count * lg\n",
    "lg.fit(X_train_count_bigram, Y_train)\n",
    "lg_bigram_preds = lg.predict_proba(X_test_count_bigram)[:,1]\n",
    "plotROC(lg_bigram_preds, Y_test, \"Logistic CountVectorizer\")\n",
    "#count * nb\n",
    "nb.fit(X_train_count_bigram, Y_train)\n",
    "nb_bigram_preds = nb.predict_proba(X_test_count_bigram)[:,1]\n",
    "plotROC(nb_bigram_preds, Y_test, \"NaiveBayes CountVectorizer\")\n",
    "#tfid * lg\n",
    "lg.fit(X_train_tfid_bigram, Y_train)\n",
    "lg_tfid_preds = lg.predict_proba(X_test_tfid_bigram)[:,1]\n",
    "plotROC(lg_tfid_preds, Y_test, \"Logistic TfidVectorizer\")\n",
    "#tfid * nb\n",
    "nb.fit(X_train_tfid_bigram, Y_train)\n",
    "nb_tfid_preds = nb.predict_proba(X_test_tfid_bigram)[:,1]\n",
    "plotROC(nb_tfid_preds, Y_test, \"NaiveBayes TfidVectorizer\")\n",
    "# Code here"
   ]
  },
  {
   "cell_type": "markdown",
   "metadata": {},
   "source": [
    "- Logistic TfidVectorizer does a better job. First of all, the TfidVectorizer does a better job because it extracts two words (ngram_range = (1,2)) and it can capture the negativitiness and positiveness more accurate. For the sense why Logistic performs better than Naive Bayes is that the correlations between words are not negligible. The independent assumption in Naive Bayes is violated. \n",
    "- extra credits: The NaiveBayes CountVectorizer and NaiveBayes TfidVectorizer work identically. Naive Bayes already takes account the probability of the text as inverse document frequency does in tfidvectorizer which means the NB CountVectorizer has taken the IDF into consideration. Hence, the two perform identically. "
   ]
  },
  {
   "cell_type": "markdown",
   "metadata": {
    "collapsed": true
   },
   "source": [
    "5\\. Use the model from question 4 that you think did the best job and predict the rating of the test data. Find 5 examples the should have been positive, but were incorrectly classified as negative. Print out the reviews below and include an explanation as to why you think it may have been incorrectly classified. You can pick any 5. They do not have to be at random."
   ]
  },
  {
   "cell_type": "code",
   "execution_count": 10,
   "metadata": {
    "collapsed": true
   },
   "outputs": [],
   "source": [
    "# Code here to display 5 incorrect reviews.\n",
    "# The best model is logistic with tf/idf \n",
    "lg.fit(X_train_tfid_bigram, Y_train)\n",
    "lg_tfid_preds = lg.predict(X_test_tfid_bigram)\n",
    "example_list = []\n",
    "for idx in range(100):\n",
    "    if lg_tfid_preds[idx] == 0 and Y_test.iloc[idx] == 1:\n",
    "        example_list.append(X_test.iloc[idx])"
   ]
  },
  {
   "cell_type": "code",
   "execution_count": 11,
   "metadata": {},
   "outputs": [
    {
     "data": {
      "text/plain": [
       "[\"'There is this private campground in Plymouth Massachusetts thats been around since 1959. My grandparents were among its founders my parents had a site starting in 1965 and my two brothers have sites there now. (This doesnt have anything directly to do with the movie; bear with me.)  I spent summers at Blueberry Hill from when I was five years old to when I was eighteen and it is to people like me to whom this film speaks: the ones for whom a group camp in the woods was as my fiancée tells of me the good and happy place. If youve never experienced the lifestyle Indian Summer will probably be lost on you; dont bother. Its not quick-paced it doesnt have rapid cuts the plots arent in the least bit convoluted it has no explosions such dramatic tension as exists is mild there arent any A-list actors there are no rapid-fire quips just to show off how clever the scriptwriters are (other than perhaps Kimberley Williams killer line about how her fiancé shouldnt overwind his toys. That is not the least degree what this movie is about any more than The Godfather is a slasher flick just because it has a lot of on screen gore. But Indian Summer is Godfathers polar opposite. If you have experienced the lifestyle see this movie. Dont read any more just do it. For me this is a 9/10 film.'\",\n",
       " \"'Tarzan and his mate(1934) was the only Tarzan movie I didnt see when I was a kid. It sounded boring. Now I have seen it. I have seen the ape man(1932) about a hundred times and I keep a copy on my drive. Its a remarkable movie. Its almost flawless. Tarzan and his mate(1934) however falters. Its not harmonic and its parts tend to live a life of there own. The parts themselves are often very good and the action sequences are great. Big budget expensive. Tarzan himself is co-starring. Jane dominates. She have developed and have become a jungle girl so sexy I tend to forget about criticism and sing her praise instead. Well. She let her be duped by a crock who steels a kiss from her and later murder an elephant. She insists Tarzan to carry a bracelet who belonged to her father. Forever. The thing would split to pieces the moment he went about his businesses in the jungle. Stupid? Later someone founds it in the river. Well its supposed to proof Tarzan is dead. Some cheap drama. The crocks who has an obvious interest in a dead Tarzan convince Jane that he is gone. She takes their words for granted and want to be taken away(to England). Stupid Jane seems to have forgot how tough Tarzan is how hard he is to kill. The caravan is leaving and Jane go along. Again a pothole. She could easily make the caravan rest for a few hours or more to pick up a few things and say goodbye to the jungle and her dead husband. She could be smart. She could dive where they found the floating bracelet check the banks for traces. She can make fire in 15 seconds and swing in Lianas. Picking up traces shouldnt be too hard for jungle Jane. She could talk to the apes and so on. If she get home to England without have done this she would become miserable. Jane is smart but cheap drama brings her down. And why on earth is she letting the kiss rapist get away with I blame myself as much as you. A punishment for being vane perhaps? Nonsense. Struggle a hard slap and telling Tarzan would be appropriate. Still. This movie is far from bad even if the potholes are many and sometimes deep. Just lean back and enjoy. Its Tarzan and Jane for God sake.'\",\n",
       " \"'Infamous pre-code film really the one film that caused people to insist on the Hayes Code being strictly enforced. Barbara Stanwyck stars as a young girl whose liquor-selling father has no problem pimping her out to customers. When he dies in an accident shes released out into the world with the knowledge that her nubile body can get her whatever she wants. She goes to New York and proceeds to climb the corporate ladder one bed at a time. Although obviously theres no actual sex shown the film is quite sleazy. Unfortunately after the initial shock value fades (around the time Stanwyck screws a rail car inspector so she can travel for free) the film becomes a tad repetitive and dull. Stanwyck herself is the only thing that keeps the film worth sitting through. As always shes fantastic.'\",\n",
       " \"'This is an almost action-less film following Jack an insomniac as he goes through hallucinations is visited by dead friends throws himself off a building and for a lot of the time cant tell reality from hallucination. Dominic Monaghan as Jack is truly believable. Confused and scared but lethargic and at times blankly accepting of what he sees we follow him trying to sort out what hes seeing and find a way to sleep. Introduce a talking dog (another hallucination) and children that suddenly appear in Jacks bathroom and bedroom without any explanation as to how they got there (more hallucination) and you have an interesting mind boggling 43 minutes And the shower scene is enough to get any Dom fan coming back for more.'\",\n",
       " \"'Let me be the first non Australian to comment on this :) I got the movie for Hugo Weaving and I watched it to the end. Its one of those drama of life films as my mother used to call a movie that depicts a real life story with no extraordinary events and that is mostly descriptive. I liked the light and the girls. The rest was without too much fault but without too much merit either. I yearned for something like The Interview or at least some matrix villain element here and there but nothing out of the ordinary. The story does teach one about facing ones own destiny and break free from the environment others build for you but this happens when the life giving peach factory in the area is about to close so not much of an effort to change things is required. The smart American Beauty sound-alike song in the background could have been part of a larger soundtrack but just that one playing over and over again became annoying after 100 minutes of film. In the end I guess it did his job of presenting a part of Australian life but to me it didnt seem specifically Australian (it could have been placed anywhere) and it didnt seem attractive as a story. I guess one must be in a certain mood to like the movie.'\"]"
      ]
     },
     "execution_count": 11,
     "metadata": {},
     "output_type": "execute_result"
    }
   ],
   "source": [
    "example_list[0:5]"
   ]
  },
  {
   "cell_type": "markdown",
   "metadata": {},
   "source": [
    "Explanation for the 5 reviews chosen here!\n",
    "- (1) The reviewer used a lot of curse words in this one but the most important he/she said 'the only casting choices that were questionable\", which \"were quesionable\" is highly possible to classified this review as a negative one, but in fact the reviewer is satisfied by the casting so the tune of this review should be positive. \n",
    "- (2) \"feel offended\" and \"be stupid\" help this review to be classified as a negative one, but the first sentence of this review shows the writer is very happy about this movie.\n",
    "- (3) \"trash it\" may help this review classified as negative. \n",
    "- (4) \"with unnecessary\" is a negative word appears in a lot of negative reviews. This may explain why the review is misclassified.\n",
    "- (5) \"criticized with\" is a strong negative word which helps the review misclassified as a negative one. "
   ]
  },
  {
   "cell_type": "code",
   "execution_count": null,
   "metadata": {
    "collapsed": true
   },
   "outputs": [],
   "source": []
  }
 ],
 "metadata": {
  "anaconda-cloud": {},
  "kernelspec": {
   "display_name": "Python 3",
   "language": "python",
   "name": "python3"
  },
  "language_info": {
   "codemirror_mode": {
    "name": "ipython",
    "version": 3
   },
   "file_extension": ".py",
   "mimetype": "text/x-python",
   "name": "python",
   "nbconvert_exporter": "python",
   "pygments_lexer": "ipython3",
   "version": "3.6.2"
  }
 },
 "nbformat": 4,
 "nbformat_minor": 1
}
